{
 "cells": [
  {
   "cell_type": "code",
   "execution_count": null,
   "metadata": {},
   "outputs": [],
   "source": [
    "import sqlite3, pandas as pd, os, string as str, re, requests, time, tkinter as tk\n",
    "from bs4 import BeautifulSoup\n",
    "from tkinter import filedialog"
   ]
  },
  {
   "cell_type": "code",
   "execution_count": null,
   "metadata": {},
   "outputs": [],
   "source": [
    "root = tk.Tk()\n",
    "root.withdraw()\n",
    "\n",
    "root.attributes('-topmost', 0)\n",
    "file_path = filedialog.askopenfilename(title=\"Select File\")\n",
    "root.attributes('-topmost', 1)\n",
    "\n",
    "file_path = file_path.replace('\\'','/')\n",
    "folder_path_value = file_path.rfind('/') + 1\n",
    "folder_path = file_path[:folder_path_value]\n",
    "\n",
    "dataframe = pd.read_csv(file_path)\n",
    "\n",
    "df = dataframe"
   ]
  },
  {
   "cell_type": "code",
   "execution_count": null,
   "metadata": {},
   "outputs": [],
   "source": [
    "df = df.fillna('')\n",
    "filtered_df = df[df['Title'] == '']\n",
    "max_count = filtered_df['Link'].count() - 1\n",
    "current_count = 0\n",
    "\n",
    "url_link = filtered_df['Link'].values[current_count]\n",
    "job_location_pattern = re.compile(r'in (.*?) \\B', re.I|re.S)\n",
    "job_title_pattern = re.compile(r'hiring (.*?) in', re.I|re.S)\n",
    "\n",
    "headers = {'User-Agent': 'python-requests/2.28.1', 'Accept-Encoding': 'gzip, deflate, br', 'Accept': '*/*', 'Connection': 'keep-alive'}\n",
    "session = requests.Session()\n",
    "\n",
    "def html_grab(url_link):\n",
    "    r = requests.get(url_link, headers = headers)\n",
    "    html_source = r.text\n",
    "    html_soup = BeautifulSoup(html_source,'html.parser')\n",
    "    return html_soup\n",
    "\n",
    "def requests_response(url_link):\n",
    "    r = requests.get(url_link, headers = headers)\n",
    "    r.status_code\n",
    "    if r.status_code == 404:\n",
    "        return 'fail'\n",
    "    else:\n",
    "        return 'pass'\n",
    "\n",
    "def html_title_string(html_soup):\n",
    "    title_string = html_soup.title.string\n",
    "    company = title_string.split(\"hiring\")[0]\n",
    "    job_title = re.search(job_title_pattern, title_string)\n",
    "    job_location = re.search(job_location_pattern, title_string)\n",
    "    return company.strip(),job_title.group(1).strip(),job_location.group(1).strip()\n"
   ]
  },
  {
   "cell_type": "code",
   "execution_count": null,
   "metadata": {},
   "outputs": [],
   "source": [
    "while current_count <= max_count:\n",
    "    print('Currently working on ' + f\"{current_count + 1}\" + ' out of ' + f\"{max_count + 1}\" + ' links.', end=\"\\r\")\n",
    "    response_status = requests_response(filtered_df['Link'].values[current_count])\n",
    "    html_data = html_grab(filtered_df['Link'].values[current_count])\n",
    "    if response_status == 'pass' and 'hiring' in html_data.title.string:        \n",
    "        data_set = html_title_string(html_data)\n",
    "        df.loc[current_count,'Company'] = data_set[0]\n",
    "        df.loc[current_count,'Title'] = data_set[1]\n",
    "        df.loc[current_count,'Location'] = data_set[2]\n",
    "    else:\n",
    "        df.loc[current_count,'Notes'] = 'invalid link or expired post'\n",
    "        time.sleep(3)\n",
    "    current_count = current_count + 1\n",
    "\n",
    "df.to_excel(folder_path+'updated_linkedin_links.xlsx', index=False)\n",
    "print('Job completed.')"
   ]
  }
 ],
 "metadata": {
  "kernelspec": {
   "display_name": "base",
   "language": "python",
   "name": "python3"
  },
  "language_info": {
   "codemirror_mode": {
    "name": "ipython",
    "version": 3
   },
   "file_extension": ".py",
   "mimetype": "text/x-python",
   "name": "python",
   "nbconvert_exporter": "python",
   "pygments_lexer": "ipython3",
   "version": "3.9.13"
  }
 },
 "nbformat": 4,
 "nbformat_minor": 2
}
